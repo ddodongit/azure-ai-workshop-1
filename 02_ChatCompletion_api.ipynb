{
 "cells": [
  {
   "cell_type": "markdown",
   "metadata": {},
   "source": [
    "# OpenAI Chat Completion"
   ]
  },
  {
   "cell_type": "markdown",
   "metadata": {},
   "source": [
    "# 개요  \n",
    "OpenAI 채팅 완성 기능은 언어 모델과 대화 형식으로 상호작용할 수 있게 해줍니다. \\\n",
    "이 기능을 사용하면 메시지 시퀀스를 입력으로 제공하고 모델이 생성한 메시지를 출력으로 받음으로써 챗봇, 가상 비서 및 기타 대화형 AI 애플리케이션을 만들 수 있습니다.\n",
    "\n",
    "더 자세한 예제는 공식 [Azure OpenAI Chat Completion Documentation](https://learn.microsoft.com/en-us/azure/ai-services/openai/chatgpt-quickstart?tabs=command-line%2Cpython-new&pivots=programming-language-python)을 참조하세요.\n"
   ]
  },
  {
   "cell_type": "markdown",
   "metadata": {},
   "source": [
    "### 1. 도우미 라이브러리 가져오기 및 자격 증명과 모델 초기화"
   ]
  },
  {
   "cell_type": "code",
   "execution_count": 1,
   "metadata": {},
   "outputs": [],
   "source": [
    "import re\n",
    "import requests\n",
    "import sys\n",
    "import os\n",
    "from openai import AzureOpenAI\n",
    "from dotenv import load_dotenv\n",
    "load_dotenv()\n",
    "\n",
    "client = AzureOpenAI(\n",
    "  azure_endpoint = os.getenv(\"AZURE_OPENAI_ENDPOINT\"), \n",
    "  api_key=os.getenv(\"AZURE_OPENAI_KEY\"),  \n",
    "  api_version=\"2024-02-15-preview\"\n",
    ")\n",
    "\n",
    "CHAT_COMPLETIONS_MODEL = os.getenv('AZURE_OPENAI_DEPLOYMENT_NAME') "
   ]
  },
  {
   "cell_type": "markdown",
   "metadata": {},
   "source": [
    "## 채팅 완성 사용하기\n",
    "채팅 완성 기능을 사용하려면 메시지 시퀀스를 입력으로 제공해야 합니다. \\\n",
    "각 메시지는 역할(\"system\", \"user\", 또는 \"assistant\")과 내용을 가져야 합니다.\n",
    "다음은 채팅 완성 기능을 사용하는 간단한 예제입니다:"
   ]
  },
  {
   "cell_type": "code",
   "execution_count": 11,
   "metadata": {},
   "outputs": [
    {
     "data": {
      "text/plain": [
       "'2020년 하계 올림픽(도쿄 2020) 남자 높이뛰기 우승자는 멕시코의 무타즈 에사 바르심입니다.'"
      ]
     },
     "execution_count": 11,
     "metadata": {},
     "output_type": "execute_result"
    }
   ],
   "source": [
    "prompt = \"\"\"질문에 가능한 한 진실하게 답변하고, 답을 잘 모를 경우 \"Sorry, I don't know\"라고 말하세요.\n",
    "\n",
    "Q: 2020년 하계 올림픽 남자 높이뛰기 우승자는 누구입니까?\n",
    "A:\"\"\"\n",
    "message_text = [{\"role\":\"system\",\"content\":prompt}]\n",
    "\n",
    "response = client.chat.completions.create(\n",
    "  model = CHAT_COMPLETIONS_MODEL,\n",
    "  messages = message_text,\n",
    ")\n",
    "\n",
    "response.choices[0].message.content"
   ]
  },
  {
   "cell_type": "markdown",
   "metadata": {},
   "source": [
    "#### 탐색할 사용 사례\n",
    "1. **고객 지원**\\\n",
    "질문을 처리할 가상 비서를 만드세요.\n",
    "\n",
    "2. **교육 도구** \\\n",
    "회사 온보딩과 같은 다양한 주제를 위한 대화형 튜터를 만드세요.\n",
    "\n",
    "3. **개인 비서** \\\n",
    "일정 관리, 알림 및 기타 작업을 위한 개인 비서를 개발하고 이를 최신 작업 솔루션과 통합하세요."
   ]
  },
  {
   "cell_type": "markdown",
   "metadata": {},
   "source": [
    "## 고객 피드백 분석\n",
    "이 예제는 OpenAI 채팅 완성 기능을 사용하여 고객 피드백을 분석하는 방법을 보여줍니다. \\\n",
    "작업은 제공된 피드백이 긍정적인지 부정적인지를 판단하는 것입니다."
   ]
  },
  {
   "cell_type": "code",
   "execution_count": 14,
   "metadata": {},
   "outputs": [
    {
     "data": {
      "text/plain": [
       "'첫 번째 피드백은 부정적입니다.\\n두 번째 피드백은 긍정적입니다.'"
      ]
     },
     "execution_count": 14,
     "metadata": {},
     "output_type": "execute_result"
    }
   ],
   "source": [
    "prompt = \"\"\"다음 고객 피드백이 긍정적인지 부정적인지 판단하세요.\n",
    "\n",
    "Q: 나는 제품의 품질에 실망했습니다. 매우 싸구려로 만들어졌고 전혀 기대에 미치지 못했습니다.\n",
    "Q: 이 제품에 만족했습니다. 가격 대비 품질이 좋고 잘 만들어졌습니다.\n",
    "\"\"\"\n",
    "\n",
    "message_text = [{\"role\":\"system\",\"content\":prompt}]\n",
    "\n",
    "response = client.chat.completions.create(\n",
    "  model = CHAT_COMPLETIONS_MODEL,\n",
    "  messages = message_text,\n",
    ")\n",
    "\n",
    "response.choices[0].message.content"
   ]
  },
  {
   "cell_type": "markdown",
   "metadata": {},
   "source": [
    "#### 탐색할 사용 사례\n",
    "\n",
    "1. **감정 분석** \\\n",
    "이 접근 방식을 사용하여 고객 피드백을 분석하고 이를 긍정적 또는 부정적 감정으로 분류하세요.\n",
    "\n",
    "2. **제품 리뷰 모니터링** \\\n",
    "제품 리뷰를 모니터링하여 부정적인 피드백을 신속히 식별하고 해결하세요.\n",
    "\n",
    "3. **고객 지원** \\\n",
    "피드백 분석을 자동화하고 부정적인 리뷰에 대한 응답을 우선 처리하여 고객 지원을 강화하세요."
   ]
  },
  {
   "cell_type": "markdown",
   "metadata": {},
   "source": [
    "## PII(개인 식별 정보) 데이터 추출\n",
    "\n",
    "**규제 준수:** \\\n",
    "GDPR, CCPA, HIPAA와 같은 데이터 개인정보 보호 규정의 증가로 인해 PII를 식별하고 보호하는 것이 중요해졌습니다. \\\n",
    "조직은 법적 문제를 피하고 고객 신뢰를 유지하기 위해 PII를 적절히 처리해야 합니다.\n",
    "\n",
    "**위험 관리:** \\\n",
    "PII 노출은 신원 도용, 재정적 손실 및 평판 손상을 초래할 수 있습니다. \\\n",
    "효과적인 PII 탐지 및 보호는 조직의 위험 관리 전략의 필수 구성 요소입니다.\n",
    "\n",
    "이 예제는 OpenAI 채팅 완성 기능을 사용하여 주어진 텍스트에서 개인 식별 정보(PII)를 추출하는 방법을 보여줍니다. \\\n",
    "작업은 제공된 진술에 포함된 모든 PII 데이터를 식별하고 나열하는 것입니다.\n"
   ]
  },
  {
   "cell_type": "code",
   "execution_count": 16,
   "metadata": {},
   "outputs": [
    {
     "data": {
      "text/plain": [
       "'이 문장에서 식별 가능한 모든 PII(개인 식별 정보)는 다음과 같습니다:\\n- 이름: John Doe\\n- 나이: 35세\\n- 성별: 남성\\n- 주소: 21 Main Street, 뉴욕, 뉴욕 주\\n- 직업: 소프트웨어 엔지니어\\n- 근무지: Microsoft\\n- 배우자 이름: Jane Doe\\n- 자녀 수: 두 자녀'"
      ]
     },
     "execution_count": 16,
     "metadata": {},
     "output_type": "execute_result"
    }
   ],
   "source": [
    "prompt = \"\"\"다음 문장에서 모든 PII(개인 식별 정보) 데이터를 나열하세요:\n",
    "John Doe는 35세 남성으로 뉴욕 주 뉴욕의 21 Main Street에 거주합니다. 그는 소프트웨어 엔지니어이며 Microsoft에서 근무합니다. 그의 아내 이름은 Jane Doe이고 두 자녀가 있습니다.\n",
    "\"\"\"\n",
    "\n",
    "message_text = [{\"role\":\"system\",\"content\":prompt}]\n",
    "\n",
    "response = client.chat.completions.create(\n",
    "  model = CHAT_COMPLETIONS_MODEL,\n",
    "  messages = message_text,\n",
    ")\n",
    "\n",
    "response.choices[0].message.content"
   ]
  },
  {
   "cell_type": "markdown",
   "metadata": {},
   "source": [
    "#### 탐색할 사용 사례\n",
    "1. **데이터 개인정보 보호** \\\n",
    "텍스트 데이터에서 PII를 식별하고 보호하여 데이터 개인정보 보호 규정을 준수하세요.\n",
    "\n",
    "2. **정보 보안** \\\n",
    "문서 및 커뮤니케이션에서 PII를 자동으로 탐지하고 처리하여 정보 보안을 강화하세요.\n",
    "\n",
    "3. **고객 데이터 관리** \\\n",
    "PII를 식별하고 분류하여 안전한 저장 및 처리를 위해 고객 데이터를 효과적으로 관리하세요."
   ]
  }
 ],
 "metadata": {
  "kernelspec": {
   "display_name": ".venv",
   "language": "python",
   "name": "python3"
  },
  "language_info": {
   "codemirror_mode": {
    "name": "ipython",
    "version": 3
   },
   "file_extension": ".py",
   "mimetype": "text/x-python",
   "name": "python",
   "nbconvert_exporter": "python",
   "pygments_lexer": "ipython3",
   "version": "3.12.11"
  },
  "orig_nbformat": 4
 },
 "nbformat": 4,
 "nbformat_minor": 2
}
